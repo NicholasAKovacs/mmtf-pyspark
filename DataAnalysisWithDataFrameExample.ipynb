{
 "cells": [
  {
   "cell_type": "markdown",
   "metadata": {},
   "source": [
    "# Example of using PySpark to do data analysis with dataframe"
   ]
  },
  {
   "cell_type": "markdown",
   "metadata": {},
   "source": [
    "## Imports and variables"
   ]
  },
  {
   "cell_type": "code",
   "execution_count": 1,
   "metadata": {
    "collapsed": false,
    "scrolled": true
   },
   "outputs": [],
   "source": [
    "from pyspark import SparkConf, SparkContext                    \n",
    "from mmtfPyspark.io import MmtfReader                                \n",
    "from mmtfPyspark.rcsbfilters import pisces                        \n",
    "from mmtfPyspark.datasets import groupInteractionExtractor\n",
    "import py3Dmol\n",
    "import time\n",
    "                                                               \n",
    "# Create variables                                             \n",
    "APP_NAME = \"MMTF_Spark\"                                        \n",
    "path = \"/home/marshuang80/PDB/full\"                            \n",
    "                                                               \n",
    "# Configure Spark                                              \n",
    "conf = SparkConf().setAppName(APP_NAME).setMaster(\"local[*]\")  \n",
    "sc = SparkContext(conf=conf)                                   "
   ]
  },
  {
   "cell_type": "markdown",
   "metadata": {},
   "source": [
    "## Read PDB and create PISCES non-redundant set"
   ]
  },
  {
   "cell_type": "code",
   "execution_count": 2,
   "metadata": {
    "collapsed": false
   },
   "outputs": [],
   "source": [
    "pdb = MmtfReader.readSequenceFile(path, sc)\n",
    "pdb = pdb.filter(pisces(sequenceIdentity = 20, resolution = 2.0))         "
   ]
  },
  {
   "cell_type": "markdown",
   "metadata": {},
   "source": [
    "## Extract Zinc interactions"
   ]
  },
  {
   "cell_type": "code",
   "execution_count": 3,
   "metadata": {
    "collapsed": false
   },
   "outputs": [
    {
     "name": "stdout",
     "output_type": "stream",
     "text": [
      "+-----------+--------+-----+--------+------+--------+-----+--------+------+---------+\n",
      "|structureId|residue1|atom1|element1|index1|residue2|atom2|element2|index2| distance|\n",
      "+-----------+--------+-----+--------+------+--------+-----+--------+------+---------+\n",
      "|       3T7L|      ZN|   ZN|      Zn|    74|     CYS|   SG|       S|    18|2.3716674|\n",
      "|       3T7L|      ZN|   ZN|      Zn|    74|     CYS|   SG|       S|    21|2.3241453|\n",
      "|       3T7L|      ZN|   ZN|      Zn|    74|     CYS|   SG|       S|    42|2.3526788|\n",
      "|       3T7L|      ZN|   ZN|      Zn|    74|     CYS|   SG|       S|    45|2.3325799|\n",
      "|       3T7L|      ZN|   ZN|      Zn|    75|     CYS|   SG|       S|    34|2.3725426|\n",
      "|       3T7L|      ZN|   ZN|      Zn|    75|     CYS|   SG|       S|    37| 2.336876|\n",
      "|       3T7L|      ZN|   ZN|      Zn|    75|     CYS|   SG|       S|    62|2.3524697|\n",
      "|       3T7L|      ZN|   ZN|      Zn|    75|     CYS|   SG|       S|    65|2.3205538|\n",
      "|       3T92|      ZN|   ZN|      Zn|   113|     HIS|  CD2|       C|    15|2.9872365|\n",
      "|       3T92|      ZN|   ZN|      Zn|   113|     HIS|  NE2|       N|    15|2.0915642|\n",
      "+-----------+--------+-----+--------+------+--------+-----+--------+------+---------+\n",
      "only showing top 10 rows\n",
      "\n"
     ]
    }
   ],
   "source": [
    "finder = groupInteractionExtractor(\"ZN\", distance = 3.0)       \n",
    "interactions = finder.getDataset(pdb)\n",
    "interactions.show(10)"
   ]
  },
  {
   "cell_type": "markdown",
   "metadata": {},
   "source": [
    "## Visualize first hit"
   ]
  },
  {
   "cell_type": "code",
   "execution_count": 4,
   "metadata": {
    "collapsed": false
   },
   "outputs": [
    {
     "data": {
      "text/html": [
       "<div id=\"3dmolviewer_1505865365947107\"  style=\"position: relative; width: 640px; height: 480px\">\n",
       "<script>\n",
       "if(typeof $3Dmolpromise === 'undefined') $3Dmolpromise = $.when($.getScript('https://3dmol.csb.pitt.edu/build/3Dmol.js'))\n",
       "var viewer_1505865365947107 = null;\n",
       "$3Dmolpromise.done(function() {\n",
       "viewer_1505865365947107 = $3Dmol.createViewer($(\"#3dmolviewer_1505865365947107\"),{backgroundColor:\"white\"});\n",
       "$3Dmol.download(\"pdb:3T7L\", viewer_1505865365947107, {}, function() {\n",
       "\tviewer_1505865365947107.setStyle({\"cartoon\": {\"color\": \"spectrum\"}});\n",
       "\tviewer_1505865365947107.setStyle({\"atom\": \"ZN\"},{\"sphere\": {\"color\": \"gray\"}});\n",
       "viewer_1505865365947107.render();\n",
       "})\n",
       "});\n",
       "</script>"
      ],
      "text/plain": [
       "<IPython.core.display.HTML object>"
      ]
     },
     "execution_count": 4,
     "metadata": {},
     "output_type": "execute_result"
    }
   ],
   "source": [
    "hit = interactions.first()[0]\n",
    "view = py3Dmol.view(query='pdb:%s'%hit)\n",
    "view.setStyle({'cartoon': {'color':'spectrum'}})\n",
    "view.setStyle({'atom':'ZN'},{'sphere': {'color':'gray'}})\n",
    "view.show()"
   ]
  },
  {
   "cell_type": "markdown",
   "metadata": {},
   "source": [
    "## Show top 5 interacting groups                           \n"
   ]
  },
  {
   "cell_type": "code",
   "execution_count": 8,
   "metadata": {
    "collapsed": false
   },
   "outputs": [
    {
     "name": "stdout",
     "output_type": "stream",
     "text": [
      "+--------+-----+\n",
      "|residue2|count|\n",
      "+--------+-----+\n",
      "|     CYS| 1394|\n",
      "|     HIS| 1262|\n",
      "|     HOH| 1047|\n",
      "|     GLU|  735|\n",
      "|     ASP|  719|\n",
      "|     ACT|   75|\n",
      "|      ZN|   48|\n",
      "|     CAC|   43|\n",
      "|     PO4|   40|\n",
      "|      CL|   36|\n",
      "+--------+-----+\n",
      "only showing top 10 rows\n",
      "\n",
      "Total time: 1 minute(s) , 19 seconds\n"
     ]
    }
   ],
   "source": [
    "start = time.time()\n",
    "interactions.filter(\"element2 != 'C'\").groupBy(\"residue2\").count().sort(\"count\", ascending=False).show(10)\n",
    "end = time.time()\n",
    "m,s = divmod(end-start, 60)\n",
    "print(\"Total time: %i minute(s) , %i seconds\"%(m,s))"
   ]
  },
  {
   "cell_type": "code",
   "execution_count": null,
   "metadata": {
    "collapsed": true
   },
   "outputs": [],
   "source": []
  }
 ],
 "metadata": {
  "kernelspec": {
   "display_name": "Python 3",
   "language": "python",
   "name": "python3"
  },
  "language_info": {
   "codemirror_mode": {
    "name": "ipython",
    "version": 3
   },
   "file_extension": ".py",
   "mimetype": "text/x-python",
   "name": "python",
   "nbconvert_exporter": "python",
   "pygments_lexer": "ipython3",
   "version": "3.6.0"
  }
 },
 "nbformat": 4,
 "nbformat_minor": 2
}
