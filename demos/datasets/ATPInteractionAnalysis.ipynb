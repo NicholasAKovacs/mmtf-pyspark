{
 "cells": [
  {
   "cell_type": "markdown",
   "metadata": {},
   "source": [
    "# Imports"
   ]
  },
  {
   "cell_type": "code",
   "execution_count": 12,
   "metadata": {
    "collapsed": false
   },
   "outputs": [],
   "source": [
    "from pyspark import SparkConf, SparkContext, SQLContext\n",
    "from mmtfPyspark.datasets import groupInteractionExtractor\n",
    "from mmtfPyspark.io import MmtfReader\n",
    "from mmtfPyspark.webfilters import blastCluster\n",
    "import time"
   ]
  },
  {
   "cell_type": "markdown",
   "metadata": {},
   "source": [
    "# Configure Spark"
   ]
  },
  {
   "cell_type": "code",
   "execution_count": 5,
   "metadata": {
    "collapsed": false
   },
   "outputs": [],
   "source": [
    "conf = SparkConf().setMaster(\"local[*]\") \\\n",
    "                  .setAppName(\"ATPInteractionAnalysisDemo\")\n",
    "    \n",
    "sc = SparkContext(conf = conf)"
   ]
  },
  {
   "cell_type": "markdown",
   "metadata": {},
   "source": [
    "# Read PDB in MMTF format"
   ]
  },
  {
   "cell_type": "code",
   "execution_count": 11,
   "metadata": {
    "collapsed": false
   },
   "outputs": [],
   "source": [
    "path = \"/home/marshuang80/PDB/full\"\n",
    "\n",
    "pdb = MmtfReader.readSequenceFile(path, sc)"
   ]
  },
  {
   "cell_type": "markdown",
   "metadata": {},
   "source": [
    "# Filter by sequence identity subset"
   ]
  },
  {
   "cell_type": "code",
   "execution_count": 13,
   "metadata": {
    "collapsed": true
   },
   "outputs": [],
   "source": [
    "pdb = pdb.filter(blastCluster(40))"
   ]
  },
  {
   "cell_type": "markdown",
   "metadata": {},
   "source": [
    "# Find ATP interactions within 3 Angstroms"
   ]
  },
  {
   "cell_type": "code",
   "execution_count": 14,
   "metadata": {
    "collapsed": true
   },
   "outputs": [],
   "source": [
    "finder = groupInteractionExtractor(\"ATP\", 3)\n",
    "\n",
    "interactions = finder.getDataset(pdb).cache()"
   ]
  },
  {
   "cell_type": "code",
   "execution_count": 15,
   "metadata": {
    "collapsed": true
   },
   "outputs": [],
   "source": [
    "interactions = interactions.filter(\"atom1 LIKE('O%G')\")"
   ]
  },
  {
   "cell_type": "markdown",
   "metadata": {},
   "source": [
    "# Show the data schema of the dataset and some data"
   ]
  },
  {
   "cell_type": "code",
   "execution_count": 16,
   "metadata": {
    "collapsed": false
   },
   "outputs": [
    {
     "name": "stdout",
     "output_type": "stream",
     "text": [
      "root\n",
      " |-- structureId: string (nullable = false)\n",
      " |-- residue1: string (nullable = false)\n",
      " |-- atom1: string (nullable = false)\n",
      " |-- element1: string (nullable = false)\n",
      " |-- index1: integer (nullable = false)\n",
      " |-- residue2: string (nullable = false)\n",
      " |-- atom2: string (nullable = false)\n",
      " |-- element2: string (nullable = false)\n",
      " |-- index2: integer (nullable = false)\n",
      " |-- distance: float (nullable = false)\n",
      "\n",
      "+-----------+--------+-----+--------+------+--------+-----+--------+------+---------+\n",
      "|structureId|residue1|atom1|element1|index1|residue2|atom2|element2|index2| distance|\n",
      "+-----------+--------+-----+--------+------+--------+-----+--------+------+---------+\n",
      "|       2JJX|     ATP|  O3G|       O|   732|     ARG|  NH2|       N|    97|2.6567695|\n",
      "|       2JJX|     ATP|  O2G|       O|   732|     HIS|  CE1|       C|   362|2.7452836|\n",
      "|       2JJX|     ATP|  O2G|       O|   732|     HIS|  NE2|       N|   362| 2.596871|\n",
      "|       2JJX|     ATP|  O1G|       O|   733|     TYR|   OH|       O|   368| 2.568854|\n",
      "|       5L9N|     ATP|  O2G|       O|    92|     GLY|    N|       N|    69| 2.678583|\n",
      "|       5WRS|     ATP|  O1G|       O|   869|     TYR|   OH|       O|    36|2.4105098|\n",
      "|       5WRS|     ATP|  O1G|       O|   869|     SER|   OG|       O|   251|  2.58459|\n",
      "|       5WRS|     ATP|  O2G|       O|   873|     TYR|   OH|       O|   467|2.7898345|\n",
      "|       5WRS|     ATP|  O1G|       O|   873|     LYS|   NZ|       N|   471|2.6723893|\n",
      "|       5WRS|     ATP|  O2G|       O|   873|     SER|   OG|       O|   685|2.5573683|\n",
      "|       3UB5|     ATP|  O3G|       O|   510|     SER|    N|       N|     8|2.9127295|\n",
      "|       3UB5|     ATP|  O3G|       O|   510|     SER|   CB|       C|     8|2.7525635|\n",
      "|       3UB5|     ATP|  O3G|       O|   510|     SER|   OG|       O|     8|2.4095993|\n",
      "|       3UBT|     ATP|  O1G|       O|  1022|     ASN|  ND2|       N|   259|2.7108417|\n",
      "|       3UC5|     ATP|  O1G|       O|   157|     SER|   CB|       C|   125|2.7338104|\n",
      "|       3UC5|     ATP|  O2G|       O|   157|     SER|    N|       N|   127|2.6658015|\n",
      "|       3UC5|     ATP|  O2G|       O|   157|     SER|   CB|       C|   127|2.8718991|\n",
      "|       3UC5|     ATP|  O2G|       O|   157|     SER|   OG|       O|   127|2.5956721|\n",
      "|       3UC5|     ATP|  O3G|       O|   157|     HOH|    O|       O|   209| 2.706756|\n",
      "|       3UC5|     ATP|  O3G|       O|   157|     HOH|    O|       O|   209| 2.611468|\n",
      "+-----------+--------+-----+--------+------+--------+-----+--------+------+---------+\n",
      "only showing top 20 rows\n",
      "\n"
     ]
    }
   ],
   "source": [
    "interactions.printSchema()\n",
    "\n",
    "interactions.show(20)"
   ]
  },
  {
   "cell_type": "markdown",
   "metadata": {},
   "source": [
    "# Count number of interactions"
   ]
  },
  {
   "cell_type": "code",
   "execution_count": 17,
   "metadata": {
    "collapsed": false
   },
   "outputs": [
    {
     "name": "stdout",
     "output_type": "stream",
     "text": [
      "Number of interactions: 10994\n"
     ]
    }
   ],
   "source": [
    "n = interactions.count()\n",
    "\n",
    "print(f\"Number of interactions: {n}\")"
   ]
  },
  {
   "cell_type": "markdown",
   "metadata": {},
   "source": [
    "# Identify top interacting groups"
   ]
  },
  {
   "cell_type": "code",
   "execution_count": 19,
   "metadata": {
    "collapsed": false
   },
   "outputs": [
    {
     "name": "stdout",
     "output_type": "stream",
     "text": [
      "+--------+-----+\n",
      "|residue2|count|\n",
      "+--------+-----+\n",
      "|     HOH| 2407|\n",
      "|      MG| 1375|\n",
      "|     ARG| 1176|\n",
      "|     SER| 1049|\n",
      "|     LYS|  995|\n",
      "|     GLY|  752|\n",
      "|     THR|  658|\n",
      "|     ASP|  577|\n",
      "|      CA|  218|\n",
      "|     GLU|  203|\n",
      "+--------+-----+\n",
      "only showing top 10 rows\n",
      "\n"
     ]
    }
   ],
   "source": [
    "topGroups = interactions.groupBy(\"residue2\").count()\n",
    "\n",
    "topGroups.sort(\"count\", ascending = False).show(10) # Sort descending by count"
   ]
  },
  {
   "cell_type": "markdown",
   "metadata": {},
   "source": [
    "# Top interacting groups/atoms types"
   ]
  },
  {
   "cell_type": "code",
   "execution_count": 23,
   "metadata": {
    "collapsed": false
   },
   "outputs": [
    {
     "name": "stdout",
     "output_type": "stream",
     "text": [
      "+--------+-----+-----+--------------------+\n",
      "|residue2|atom2|count|           frequency|\n",
      "+--------+-----+-----+--------------------+\n",
      "|     HOH|    O| 2395|  0.2178460978715663|\n",
      "|      MG|   MG| 1375| 0.12506821902856102|\n",
      "|     LYS|   NZ|  777| 0.07067491358923049|\n",
      "|     SER|   OG|  589| 0.05357467709659815|\n",
      "|     ARG|  NH2|  550|0.050027287611424415|\n",
      "|     GLY|    N|  543|  0.0493905766781881|\n",
      "|     THR|  OG1|  377| 0.03429143169001273|\n",
      "|     SER|    N|  318|0.028924868109878116|\n",
      "|     ARG|  NH1|  287| 0.02610514826268874|\n",
      "|     ASP|  OD1|  247|0.022466800072766965|\n",
      "+--------+-----+-----+--------------------+\n",
      "only showing top 10 rows\n",
      "\n"
     ]
    }
   ],
   "source": [
    "topGroupsAndAtoms = interactions.groupBy(\"residue2\",\"atom2\").count()\n",
    "\n",
    "topGroupsAndAtoms.withColumn(\"frequency\", topGroupsAndAtoms[\"count\"] / n)\\\n",
    "                 .sort(\"frequency\", ascending = False) \\\n",
    "                 .show(10)"
   ]
  },
  {
   "cell_type": "code",
   "execution_count": null,
   "metadata": {
    "collapsed": true
   },
   "outputs": [],
   "source": []
  }
 ],
 "metadata": {
  "kernelspec": {
   "display_name": "Python 3",
   "language": "python",
   "name": "python3"
  },
  "language_info": {
   "codemirror_mode": {
    "name": "ipython",
    "version": 3
   },
   "file_extension": ".py",
   "mimetype": "text/x-python",
   "name": "python",
   "nbconvert_exporter": "python",
   "pygments_lexer": "ipython3",
   "version": "3.6.0"
  }
 },
 "nbformat": 4,
 "nbformat_minor": 2
}
