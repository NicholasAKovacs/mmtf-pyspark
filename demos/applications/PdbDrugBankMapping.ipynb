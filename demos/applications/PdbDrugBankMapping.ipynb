{
 "cells": [
  {
   "cell_type": "markdown",
   "metadata": {},
   "source": [
    "# PDB Drug Bank Mapping\n",
    "\n",
    "Join PDB dataset and Drug Bank dataset together by their InChIKey"
   ]
  },
  {
   "cell_type": "markdown",
   "metadata": {},
   "source": [
    "## Imports and variables"
   ]
  },
  {
   "cell_type": "code",
   "execution_count": 1,
   "metadata": {
    "scrolled": true
   },
   "outputs": [],
   "source": [
    "from pyspark import SparkConf, SparkContext                    \n",
    "from mmtfPyspark.datasets import customReportService, drugBankDataset\n",
    "                                                               \n",
    "# Create variables                                             \n",
    "APP_NAME = \"MMTF_Spark\"                                        \n",
    "path = \"../../resources/mmtf_full_sample/\"\n",
    "\n",
    "# Configure Spark                                              \n",
    "conf = SparkConf().setAppName(APP_NAME).setMaster(\"local[*]\")  \n",
    "sc = SparkContext(conf=conf)                                   "
   ]
  },
  {
   "cell_type": "markdown",
   "metadata": {},
   "source": [
    "## Download open DrugBank dataset"
   ]
  },
  {
   "cell_type": "code",
   "execution_count": 29,
   "metadata": {},
   "outputs": [
    {
     "data": {
      "text/plain": [
       "[Row(DrugBankID='DB00001', AccessionNumbers='BTD00024 | BIOD00024', Commonname='Lepirudin', CAS='138068-37-8', UNII='Y43GF64R34', Synonyms='Hirudin variant-1 | Lepirudin recombinant', StandardInChIKey=None),\n",
       " Row(DrugBankID='DB00002', AccessionNumbers='BTD00071 | BIOD00071', Commonname='Cetuximab', CAS='205923-56-4', UNII='PQX0D8J21J', Synonyms='Cetuximab | Cétuximab | Cetuximabum | Immunoglobulin G 1 (human-mouse monoclonal C 225 gamma 1 - chain anti-human epidermal growt factor receptor), disulfide wit human-mouse monoclonal C 225 kappa - chain, dimer', StandardInChIKey=None),\n",
       " Row(DrugBankID='DB00003', AccessionNumbers='BTD00001 | BIOD00001', Commonname='Dornase alfa', CAS='143831-71-4', UNII='953A26OA1Y', Synonyms='Deoxyribonuclease (human clone 18-1 protein moiety) | Dornase alfa, recombinant | Dornase alpha | Recombinant deoxyribonuclease (DNAse)', StandardInChIKey=None),\n",
       " Row(DrugBankID='DB00004', AccessionNumbers='BTD00084 | BIOD00084', Commonname='Denileukin diftitox', CAS='173146-27-5', UNII='25E79B5CTM', Synonyms='Diphtheria toxin precursor | DT | NAD(+--diphthamide ADP- ribosyltransferase)', StandardInChIKey=None),\n",
       " Row(DrugBankID='DB00005', AccessionNumbers='BTD00052 | BIOD00052', Commonname='Etanercept', CAS='185243-69-0', UNII='OP401G7OJC', Synonyms='Etanercept-szzs | RHU TNFR:FC | RHU-TNFR:FC | TNFR-Immunoadhesin', StandardInChIKey=None)]"
      ]
     },
     "execution_count": 29,
     "metadata": {},
     "output_type": "execute_result"
    }
   ],
   "source": [
    "drugBank = drugBankDataset.get_open_drug_links()\n",
    "drugBank.head(5)"
   ]
  },
  {
   "cell_type": "markdown",
   "metadata": {},
   "source": [
    "## Filter out DrugBank entries without StandardInChIKey"
   ]
  },
  {
   "cell_type": "code",
   "execution_count": 30,
   "metadata": {},
   "outputs": [
    {
     "data": {
      "text/plain": [
       "[Row(DrugBankID='DB00006', AccessionNumbers='BTD00076 | EXPT03302 | BIOD00076 | DB02351', Commonname='Bivalirudin', CAS='128270-60-0', UNII='TN9BEX005G', Synonyms='Bivalirudina | Bivalirudinum | Hirulog', StandardInChIKey='OIRCOABEOLEUMC-GEJPAHFPSA-N'),\n",
       " Row(DrugBankID='DB00014', AccessionNumbers='BTD00113 | BIOD00113', Commonname='Goserelin', CAS='65807-02-5', UNII='0F65R8P09N', Synonyms=None, StandardInChIKey='BLCLNMBMMGCOAS-URPVMXJPSA-N'),\n",
       " Row(DrugBankID='DB00027', AccessionNumbers='BTD00036 | BIOD00036', Commonname='Gramicidin D', CAS='1405-97-6', UNII='5IE62321P4', Synonyms='Bacillus brevis gramicidin D | Gramicidin | Gramicidin A | Gramicidin B | Gramicidin C | Gramicidine', StandardInChIKey='NDAYQJDHGXTBJL-MWWSRJDJSA-N'),\n",
       " Row(DrugBankID='DB00035', AccessionNumbers='BTD00112 | BTD00061 | BIOD00112 | BIOD00061', Commonname='Desmopressin', CAS='16679-58-6', UNII='ENR1LLB0FP', Synonyms='1-(3-mercaptopropionic acid)-8-D-arginine-vasopressin | 1-deamino-8-D-arginine vasopressin | 1-desamino-8-D-arginine vasopressin | dDAVP | Desmopresina | Desmopressine | Desmopressinum', StandardInChIKey='NFLWUMRGJYTJIN-NXBWRCJVSA-N'),\n",
       " Row(DrugBankID='DB00050', AccessionNumbers='BTD00115 | APRD00686 | BIOD00115', Commonname='Cetrorelix', CAS='120287-85-6', UNII='OON1HFZ4BA', Synonyms='Cetrorelixum', StandardInChIKey='SBNPWPIBESPSIF-MHWMIDJBSA-N')]"
      ]
     },
     "execution_count": 30,
     "metadata": {},
     "output_type": "execute_result"
    }
   ],
   "source": [
    "drugBank = drugBank.filter(drugBank.StandardInChIKey.isNotNull())\n",
    "drugBank.head(5)"
   ]
  },
  {
   "cell_type": "markdown",
   "metadata": {},
   "source": [
    "## Get PDB ligand annotations"
   ]
  },
  {
   "cell_type": "code",
   "execution_count": 31,
   "metadata": {},
   "outputs": [
    {
     "data": {
      "text/plain": [
       "[Row(structureChainId='100D.A', structureId='100D', chainId='A', ligandId='SPM', ligandMolecularWeight=202.34, ligandFormula='C10 H26 N4', ligandSmiles='C(CCNCCCN)CNCCCN', InChIKey='PFNFFQXMRSDOHW-UHFFFAOYSA-N'),\n",
       " Row(structureChainId='100D.B', structureId='100D', chainId='B', ligandId=None, ligandMolecularWeight=None, ligandFormula=None, ligandSmiles=None, InChIKey=None),\n",
       " Row(structureChainId='101D.A', structureId='101D', chainId='A', ligandId='CBR', ligandMolecularWeight=386.09, ligandFormula='C9 H13 Br N3 O7 P', ligandSmiles='C1[C@@H]([C@H](O[C@H]1N2C=C(C(=NC2=O)N)Br)COP(=O)(O)O)O', InChIKey='PLDRCXOBLRYJSZ-RRKCRQDMSA-N'),\n",
       " Row(structureChainId='101D.A', structureId='101D', chainId='A', ligandId='MG', ligandMolecularWeight=24.31, ligandFormula='Mg 2', ligandSmiles='[Mg+2]', InChIKey='JLVVSXFLKOJNIY-UHFFFAOYSA-N'),\n",
       " Row(structureChainId='101D.B', structureId='101D', chainId='B', ligandId='CBR', ligandMolecularWeight=386.09, ligandFormula='C9 H13 Br N3 O7 P', ligandSmiles='C1[C@@H]([C@H](O[C@H]1N2C=C(C(=NC2=O)N)Br)COP(=O)(O)O)O', InChIKey='PLDRCXOBLRYJSZ-RRKCRQDMSA-N'),\n",
       " Row(structureChainId='101D.B', structureId='101D', chainId='B', ligandId='NT', ligandMolecularWeight=430.46, ligandFormula='C18 H26 N10 O3', ligandSmiles='Cn1cc(cc1C(=O)Nc2cc(n(c2)C)C(=O)NCCC(=N)N)NC(=O)CNC(=N)N', InChIKey='IDBIFFKSXLYUOT-UHFFFAOYSA-N'),\n",
       " Row(structureChainId='101M.A', structureId='101M', chainId='A', ligandId='HEM', ligandMolecularWeight=616.49, ligandFormula='C34 H32 Fe N4 O4', ligandSmiles='Cc1c2n3c(c1CCC(=O)O)C=C4C(=C(C5=[N]4[Fe]36[N]7=C(C=C8N6C(=C5)C(=C8C)C=C)C(=C(C7=C2)C)C=C)C)CCC(=O)O', InChIKey='KABFMIBPWCXCRK-RGGAHWMASA-L'),\n",
       " Row(structureChainId='101M.A', structureId='101M', chainId='A', ligandId='NBN', ligandMolecularWeight=83.13, ligandFormula='C5 H9 N', ligandSmiles='CCCC[N+]#[C-]', InChIKey='FSBLVBBRXSCOKU-UHFFFAOYSA-N'),\n",
       " Row(structureChainId='101M.A', structureId='101M', chainId='A', ligandId='SO4', ligandMolecularWeight=96.06, ligandFormula='O4 S -2', ligandSmiles='[O-]S(=O)(=O)[O-]', InChIKey='QAOWNCQODCNURD-UHFFFAOYSA-L'),\n",
       " Row(structureChainId='102D.A', structureId='102D', chainId='A', ligandId=None, ligandMolecularWeight=None, ligandFormula=None, ligandSmiles=None, InChIKey=None)]"
      ]
     },
     "execution_count": 31,
     "metadata": {},
     "output_type": "execute_result"
    }
   ],
   "source": [
    "ligands = customReportService.get_dataset([\"ligandId\",\"ligandMolecularWeight\",\"ligandFormula\",\"ligandSmiles\",\"InChIKey\"])\n",
    "ligands.head(10)"
   ]
  },
  {
   "cell_type": "markdown",
   "metadata": {},
   "source": [
    "## Filter out DrugBank entries without InChIKey"
   ]
  },
  {
   "cell_type": "code",
   "execution_count": 32,
   "metadata": {},
   "outputs": [
    {
     "data": {
      "text/plain": [
       "[Row(structureChainId='100D.A', structureId='100D', chainId='A', ligandId='SPM', ligandMolecularWeight=202.34, ligandFormula='C10 H26 N4', ligandSmiles='C(CCNCCCN)CNCCCN', InChIKey='PFNFFQXMRSDOHW-UHFFFAOYSA-N'),\n",
       " Row(structureChainId='101D.A', structureId='101D', chainId='A', ligandId='CBR', ligandMolecularWeight=386.09, ligandFormula='C9 H13 Br N3 O7 P', ligandSmiles='C1[C@@H]([C@H](O[C@H]1N2C=C(C(=NC2=O)N)Br)COP(=O)(O)O)O', InChIKey='PLDRCXOBLRYJSZ-RRKCRQDMSA-N'),\n",
       " Row(structureChainId='101D.A', structureId='101D', chainId='A', ligandId='MG', ligandMolecularWeight=24.31, ligandFormula='Mg 2', ligandSmiles='[Mg+2]', InChIKey='JLVVSXFLKOJNIY-UHFFFAOYSA-N'),\n",
       " Row(structureChainId='101D.B', structureId='101D', chainId='B', ligandId='CBR', ligandMolecularWeight=386.09, ligandFormula='C9 H13 Br N3 O7 P', ligandSmiles='C1[C@@H]([C@H](O[C@H]1N2C=C(C(=NC2=O)N)Br)COP(=O)(O)O)O', InChIKey='PLDRCXOBLRYJSZ-RRKCRQDMSA-N'),\n",
       " Row(structureChainId='101D.B', structureId='101D', chainId='B', ligandId='NT', ligandMolecularWeight=430.46, ligandFormula='C18 H26 N10 O3', ligandSmiles='Cn1cc(cc1C(=O)Nc2cc(n(c2)C)C(=O)NCCC(=N)N)NC(=O)CNC(=N)N', InChIKey='IDBIFFKSXLYUOT-UHFFFAOYSA-N')]"
      ]
     },
     "execution_count": 32,
     "metadata": {},
     "output_type": "execute_result"
    }
   ],
   "source": [
    "ligands = ligands.filter(ligands.InChIKey.isNotNull())\n",
    "ligands.head(5)"
   ]
  },
  {
   "cell_type": "markdown",
   "metadata": {},
   "source": [
    "## Join ligand dataset with DrugBank info by InChIKey"
   ]
  },
  {
   "cell_type": "code",
   "execution_count": 33,
   "metadata": {},
   "outputs": [
    {
     "data": {
      "text/plain": [
       "[Row(structureChainId='100D.A', structureId='100D', chainId='A', ligandId='SPM', ligandMolecularWeight=202.34, ligandFormula='C10 H26 N4', ligandSmiles='C(CCNCCCN)CNCCCN', InChIKey='PFNFFQXMRSDOHW-UHFFFAOYSA-N', DrugBankID='DB00127', AccessionNumbers='NUTR00055 | EXPT02947 | DB02564', Commonname='Spermine', CAS='71-44-3', UNII='2FZ7Y3VOQX', Synonyms=\"4,9-Diaza-1,12-dodecanediamine | 4,9-Diazadodecane-1,12-diamine | N,N'-Bis(3-aminopropyl)-1,4-butanediamine | Spermine\", StandardInChIKey='PFNFFQXMRSDOHW-UHFFFAOYSA-N'),\n",
       " Row(structureChainId='101D.A', structureId='101D', chainId='A', ligandId='MG', ligandMolecularWeight=24.31, ligandFormula='Mg 2', ligandSmiles='[Mg+2]', InChIKey='JLVVSXFLKOJNIY-UHFFFAOYSA-N', DrugBankID='DB01378', AccessionNumbers=None, Commonname='Magnesium', CAS='7439-95-4', UNII='T6V3LHY838', Synonyms=None, StandardInChIKey='JLVVSXFLKOJNIY-UHFFFAOYSA-N'),\n",
       " Row(structureChainId='101M.A', structureId='101M', chainId='A', ligandId='NBN', ligandMolecularWeight=83.13, ligandFormula='C5 H9 N', ligandSmiles='CCCC[N+]#[C-]', InChIKey='FSBLVBBRXSCOKU-UHFFFAOYSA-N', DrugBankID='DB01826', AccessionNumbers='EXPT02302', Commonname='N-Butyl Isocyanide', CAS='2769-64-4', UNII=None, Synonyms=None, StandardInChIKey='FSBLVBBRXSCOKU-UHFFFAOYSA-N'),\n",
       " Row(structureChainId='102D.B', structureId='102D', chainId='B', ligandId='TNT', ligandMolecularWeight=312.37, ligandFormula='C17 H20 N4 O2', ligandSmiles='c1cc(ccc1C(=N)N)OCCCOc2ccc(cc2)C(=N)N', InChIKey='WTFXJFJYEJZMFO-UHFFFAOYSA-N', DrugBankID='DB13296', AccessionNumbers=None, Commonname='Propamidine', CAS='104-32-5', UNII='G20G12V769', Synonyms=None, StandardInChIKey='WTFXJFJYEJZMFO-UHFFFAOYSA-N'),\n",
       " Row(structureChainId='102L.A', structureId='102L', chainId='A', ligandId='BME', ligandMolecularWeight=78.13, ligandFormula='C2 H6 O S', ligandSmiles='C(CS)O', InChIKey='DGVVWUTYPXICAM-UHFFFAOYSA-N', DrugBankID='DB03345', AccessionNumbers='EXPT02882 | DB03131', Commonname='Beta-Mercaptoethanol', CAS='60-24-2', UNII='14R9K67URN', Synonyms='2-Sulfhydryl-Ethanol', StandardInChIKey='DGVVWUTYPXICAM-UHFFFAOYSA-N'),\n",
       " Row(structureChainId='103L.A', structureId='103L', chainId='A', ligandId='BME', ligandMolecularWeight=78.13, ligandFormula='C2 H6 O S', ligandSmiles='C(CS)O', InChIKey='DGVVWUTYPXICAM-UHFFFAOYSA-N', DrugBankID='DB03345', AccessionNumbers='EXPT02882 | DB03131', Commonname='Beta-Mercaptoethanol', CAS='60-24-2', UNII='14R9K67URN', Synonyms='2-Sulfhydryl-Ethanol', StandardInChIKey='DGVVWUTYPXICAM-UHFFFAOYSA-N'),\n",
       " Row(structureChainId='103M.A', structureId='103M', chainId='A', ligandId='NBN', ligandMolecularWeight=83.13, ligandFormula='C5 H9 N', ligandSmiles='CCCC[N+]#[C-]', InChIKey='FSBLVBBRXSCOKU-UHFFFAOYSA-N', DrugBankID='DB01826', AccessionNumbers='EXPT02302', Commonname='N-Butyl Isocyanide', CAS='2769-64-4', UNII=None, Synonyms=None, StandardInChIKey='FSBLVBBRXSCOKU-UHFFFAOYSA-N'),\n",
       " Row(structureChainId='104M.A', structureId='104M', chainId='A', ligandId='NBN', ligandMolecularWeight=83.13, ligandFormula='C5 H9 N', ligandSmiles='CCCC[N+]#[C-]', InChIKey='FSBLVBBRXSCOKU-UHFFFAOYSA-N', DrugBankID='DB01826', AccessionNumbers='EXPT02302', Commonname='N-Butyl Isocyanide', CAS='2769-64-4', UNII=None, Synonyms=None, StandardInChIKey='FSBLVBBRXSCOKU-UHFFFAOYSA-N'),\n",
       " Row(structureChainId='105M.A', structureId='105M', chainId='A', ligandId='NBN', ligandMolecularWeight=83.13, ligandFormula='C5 H9 N', ligandSmiles='CCCC[N+]#[C-]', InChIKey='FSBLVBBRXSCOKU-UHFFFAOYSA-N', DrugBankID='DB01826', AccessionNumbers='EXPT02302', Commonname='N-Butyl Isocyanide', CAS='2769-64-4', UNII=None, Synonyms=None, StandardInChIKey='FSBLVBBRXSCOKU-UHFFFAOYSA-N'),\n",
       " Row(structureChainId='106M.A', structureId='106M', chainId='A', ligandId='ENC', ligandMolecularWeight=56.09, ligandFormula='C3 H6 N 1', ligandSmiles='CC[N+]#C', InChIKey='JEGVKBYNUPNGJU-UHFFFAOYSA-N', DrugBankID='DB03399', AccessionNumbers='EXPT01344', Commonname='Ethyl Isocyanide', CAS=None, UNII=None, Synonyms=None, StandardInChIKey='JEGVKBYNUPNGJU-UHFFFAOYSA-N')]"
      ]
     },
     "execution_count": 33,
     "metadata": {},
     "output_type": "execute_result"
    }
   ],
   "source": [
    "ligands = ligands.join(drugBank, ligands.InChIKey == drugBank.StandardInChIKey)\n",
    "ligands.head(10)"
   ]
  },
  {
   "cell_type": "markdown",
   "metadata": {},
   "source": [
    "## Show one exmaple per drug molecule"
   ]
  },
  {
   "cell_type": "code",
   "execution_count": 34,
   "metadata": {},
   "outputs": [
    {
     "name": "stdout",
     "output_type": "stream",
     "text": [
      "+----------------+--------+----------+--------------------+---------------------+---------------+--------------------+--------------------+\n",
      "|structureChainId|ligandId|DrugBankID|          Commonname|ligandMolecularWeight|  ligandFormula|            InChIKey|        ligandSmiles|\n",
      "+----------------+--------+----------+--------------------+---------------------+---------------+--------------------+--------------------+\n",
      "|          1NJ6.A|     A5A|   DB03376|'5'-O-(N-(L-Alany...|                417.4|C13 H19 N7 O7 S|CWWYMWDIYBJVLP-YT...|C[C@@H](C(=O)NS(=...|\n",
      "|          1NJ5.A|     P5A|   DB02510|'5'-O-(N-(L-Proly...|               443.43|C15 H21 N7 O7 S|LKVJEMXWEODCAY-JV...|c1nc(c2c(n1)n(cn2...|\n",
      "|          1VQ2.A|     DDN|   DB04280|((2r,3s,5r)-3-Hyd...|                310.2| C9 H15 N2 O8 P|ILSIYJVILUIVPM-LX...|C1[C@@H]([C@H](O[...|\n",
      "|          1A7A.A|     ADC|   DB03216|(1'r,2's)-9-(2-Hy...|               233.23|  C10 H11 N5 O2|RQPALADHFYHEHK-CH...|c1nc(c2c(n1)n(cn2...|\n",
      "|          1DCY.A|     I3N|   DB03121|(1-Benzyl-5-metho...|               309.36|   C19 H19 N O3|ZEKCBTQHDTUHRJ-UH...|Cc1c(c2cc(ccc2n1C...|\n",
      "|          2E99.A|     B08|   DB07404|(1-HYDROXY-1-PHOS...|               434.32|  C20 H20 O7 P2|YXQQNSYZOQHKHD-UH...|c1ccc(cc1)c2cccc(...|\n",
      "|          2E9A.A|     B28|   DB07409|(1-HYDROXY-1-PHOS...|               434.32|  C20 H20 O7 P2|MPBUFKZCEBTBSK-UH...|c1ccc(cc1)c2ccc(c...|\n",
      "|          2Z52.A|     H23|   DB07873|(1-HYDROXYDODECAN...|               346.29|  C12 H28 O7 P2|KKVZONPEMODBBG-UH...|CCCCCCCCCCCC(O)(P...|\n",
      "|          2Z50.A|     028|   DB06830|(1-HYDROXYHEPTANE...|               276.16|   C7 H18 O7 P2|IJEGNOYPWRBKAE-UH...|CCCCCCC(O)(P(=O)(...|\n",
      "|          2Z4X.A|     252|   DB06931|(1-HYDROXYNONANE-...|               304.21|   C9 H22 O7 P2|COHUUYPEYRMWTH-UH...|CCCCCCCCC(O)(P(=O...|\n",
      "+----------------+--------+----------+--------------------+---------------------+---------------+--------------------+--------------------+\n",
      "only showing top 10 rows\n",
      "\n"
     ]
    }
   ],
   "source": [
    "ligands = ligands.dropDuplicates([\"Commonname\"])\n",
    "ligands = ligands.select(\"structureChainId\", \"ligandId\", \"DrugBankID\", \"Commonname\", \"ligandMolecularWeight\",\"ligandFormula\", \"InChIKey\", \"ligandSmiles\")\n",
    "ligands.sort(\"Commonname\").show(10)"
   ]
  },
  {
   "cell_type": "markdown",
   "metadata": {},
   "source": [
    "## Terminate Spark"
   ]
  },
  {
   "cell_type": "code",
   "execution_count": 17,
   "metadata": {},
   "outputs": [],
   "source": [
    "sc.stop()"
   ]
  }
 ],
 "metadata": {
  "kernelspec": {
   "display_name": "Python 3",
   "language": "python",
   "name": "python3"
  },
  "language_info": {
   "codemirror_mode": {
    "name": "ipython",
    "version": 3
   },
   "file_extension": ".py",
   "mimetype": "text/x-python",
   "name": "python",
   "nbconvert_exporter": "python",
   "pygments_lexer": "ipython3",
   "version": "3.6.0"
  }
 },
 "nbformat": 4,
 "nbformat_minor": 2
}
