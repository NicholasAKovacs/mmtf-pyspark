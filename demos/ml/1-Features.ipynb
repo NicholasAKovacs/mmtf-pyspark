{
 "cells": [
  {
   "cell_type": "markdown",
   "metadata": {},
   "source": [
    "# Machine learning - Features extraction\n",
    "\n",
    "Demo to create a feature vector for protein fold classification. \n",
    "In this demo we try to classify a protein chain as either an all alpha or all beta protein based on protein sequence. We use n-grams and a Word2Vec representation of the protein sequence as a feature vector.\n",
    "\n",
    "[Word2Vec model](https://spark.apache.org/docs/latest/mllib-feature-extraction.html#word2vec)\n",
    "\n",
    "[Word2Vec example](https://spark.apache.org/docs/latest/ml-features.html#word2vec)\n",
    "\n",
    "## Imports"
   ]
  },
  {
   "cell_type": "code",
   "execution_count": 1,
   "metadata": {},
   "outputs": [],
   "source": [
    "from pyspark import SparkConf, SparkContext, SQLContext\n",
    "from pyspark.sql import SparkSession\n",
    "from pyspark.sql.functions import *\n",
    "from pyspark.sql.types import *\n",
    "from mmtfPyspark.io import mmtfReader\n",
    "from mmtfPyspark.webFilters import Pisces\n",
    "from mmtfPyspark.filters import ContainsLProteinChain\n",
    "from mmtfPyspark.mappers import StructureToPolymerChains\n",
    "from mmtfPyspark.datasets import secondaryStructureExtractor\n",
    "from mmtfPyspark.ml import ProteinSequenceEncoder"
   ]
  },
  {
   "cell_type": "markdown",
   "metadata": {},
   "source": [
    "## Configure Spark Context"
   ]
  },
  {
   "cell_type": "code",
   "execution_count": 2,
   "metadata": {},
   "outputs": [],
   "source": [
    "conf = SparkConf() \\\n",
    "            .setMaster(\"local[*]\") \\\n",
    "            .setAppName(\"MachineLearningFeaturesExtractionDemo\")\n",
    "\n",
    "sc = SparkContext(conf = conf)"
   ]
  },
  {
   "cell_type": "markdown",
   "metadata": {},
   "source": [
    "## Read MMTF File and create a non-redundant set (<=40% seq. identity) of L-protein clains"
   ]
  },
  {
   "cell_type": "code",
   "execution_count": 3,
   "metadata": {},
   "outputs": [
    {
     "name": "stdout",
     "output_type": "stream",
     "text": [
      "Hadoop Sequence file path: MMTF_REDUCED=/home/marshuang80/PDB/reduced/\n"
     ]
    },
    {
     "data": {
      "text/plain": [
       "2174"
      ]
     },
     "execution_count": 3,
     "metadata": {},
     "output_type": "execute_result"
    }
   ],
   "source": [
    "pdb = mmtfReader.read_reduced_sequence_file(sc, fraction=0.1) \\\n",
    "                .flatMap(StructureToPolymerChains()) \\\n",
    "                .filter(Pisces(sequenceIdentity=40,resolution=3.0))"
   ]
  },
  {
   "cell_type": "markdown",
   "metadata": {},
   "source": [
    "## Get secondary structure content"
   ]
  },
  {
   "cell_type": "code",
   "execution_count": 4,
   "metadata": {},
   "outputs": [],
   "source": [
    "data = secondaryStructureExtractor.get_dataset(pdb)"
   ]
  },
  {
   "cell_type": "markdown",
   "metadata": {},
   "source": [
    "## Define addProteinFoldType function"
   ]
  },
  {
   "cell_type": "code",
   "execution_count": 5,
   "metadata": {},
   "outputs": [],
   "source": [
    "def add_protein_fold_type(data, minThreshold, maxThreshold):\n",
    "    '''\n",
    "    Adds a column \"foldType\" with three major secondary structure class:\n",
    "    \"alpha\", \"beta\", \"alpha+beta\", and \"other\" based upon the fraction of alpha/beta content.\n",
    "\n",
    "    The simplified syntax used in this method relies on two imports:\n",
    "        from pyspark.sql.functions import when\n",
    "        from pyspark.sql.functions import col\n",
    "\n",
    "    Attributes:\n",
    "        data (Dataset<Row>): input dataset with alpha, beta composition\n",
    "        minThreshold (float): below this threshold, the secondary structure is ignored\n",
    "        maxThreshold (float): above this threshold, the secondary structure is ignored\n",
    "    '''\n",
    "\n",
    "    return data.withColumn(\"foldType\", \\\n",
    "                           when((col(\"alpha\") > maxThreshold) & (col(\"beta\") < minThreshold), \"alpha\"). \\\n",
    "                           when((col(\"beta\") > maxThreshold) & (col(\"alpha\") < minThreshold), \"beta\"). \\\n",
    "                           when((col(\"alpha\") > maxThreshold) & (col(\"beta\") > minThreshold), \"alpha+beta\"). \\\n",
    "                           otherwise(\"other\")\\\n",
    "                           )"
   ]
  },
  {
   "cell_type": "markdown",
   "metadata": {},
   "source": [
    "## Classify chains by secondary structure type"
   ]
  },
  {
   "cell_type": "code",
   "execution_count": 6,
   "metadata": {},
   "outputs": [],
   "source": [
    "data = add_protein_fold_type(data, minThreshold=0.05, maxThreshold=0.15)"
   ]
  },
  {
   "cell_type": "markdown",
   "metadata": {},
   "source": [
    "## Create a Word2Vec representation of the protein sequences\n",
    "\n",
    "**n = 2**     # create 2-grams \n",
    "\n",
    "**windowSize = 25**    # 25-amino residue window size for Word2Vector\n",
    "\n",
    "**vectorSize = 50**    # dimension of feature vector"
   ]
  },
  {
   "cell_type": "code",
   "execution_count": 7,
   "metadata": {},
   "outputs": [
    {
     "data": {
      "text/html": [
       "<div>\n",
       "<style scoped>\n",
       "    .dataframe tbody tr th:only-of-type {\n",
       "        vertical-align: middle;\n",
       "    }\n",
       "\n",
       "    .dataframe tbody tr th {\n",
       "        vertical-align: top;\n",
       "    }\n",
       "\n",
       "    .dataframe thead th {\n",
       "        text-align: right;\n",
       "    }\n",
       "</style>\n",
       "<table border=\"1\" class=\"dataframe\">\n",
       "  <thead>\n",
       "    <tr style=\"text-align: right;\">\n",
       "      <th></th>\n",
       "      <th>structureChainId</th>\n",
       "      <th>sequence</th>\n",
       "      <th>alpha</th>\n",
       "      <th>beta</th>\n",
       "      <th>coil</th>\n",
       "      <th>dsspQ8Code</th>\n",
       "      <th>dsspQ3Code</th>\n",
       "      <th>foldType</th>\n",
       "      <th>ngram</th>\n",
       "      <th>features</th>\n",
       "    </tr>\n",
       "  </thead>\n",
       "  <tbody>\n",
       "    <tr>\n",
       "      <th>0</th>\n",
       "      <td>2WWE.A</td>\n",
       "      <td>MHHHHHHSSGVDLGTENLYFQSMSIERATILGFSKKSSNLYLIQVT...</td>\n",
       "      <td>0.414414</td>\n",
       "      <td>0.243243</td>\n",
       "      <td>0.342342</td>\n",
       "      <td>XXXXXXXXXXXXXXXXCCCSCSSSEEEEEEEEEETTEEEEEEEEEE...</td>\n",
       "      <td>XXXXXXXXXXXXXXXXCCCCCCCCEEEEEEEEEECCEEEEEEEEEE...</td>\n",
       "      <td>alpha+beta</td>\n",
       "      <td>[MH, HH, HH, HH, HH, HH, HS, SS, SG, GV, VD, D...</td>\n",
       "      <td>[-0.29939163091873366, -0.10455474958178543, 0...</td>\n",
       "    </tr>\n",
       "    <tr>\n",
       "      <th>1</th>\n",
       "      <td>5H9N.A</td>\n",
       "      <td>AEVTSIPTGCNALSGKIMSGFDANRFFTGDWYLTHSRDSEVPVRCE...</td>\n",
       "      <td>0.084416</td>\n",
       "      <td>0.422078</td>\n",
       "      <td>0.493506</td>\n",
       "      <td>XXCCSCCTTSCCCTTTSCSSCCHHHHSSSEEEEEEESSCCSSCCCE...</td>\n",
       "      <td>XXCCCCCCCCCCCCCCCCCCCCHHHHCCCEEEEEEECCCCCCCCCE...</td>\n",
       "      <td>other</td>\n",
       "      <td>[AE, EV, VT, TS, SI, IP, PT, TG, GC, CN, NA, A...</td>\n",
       "      <td>[-0.2998051074423617, -0.06302618445347874, 0....</td>\n",
       "    </tr>\n",
       "    <tr>\n",
       "      <th>2</th>\n",
       "      <td>3U9J.A</td>\n",
       "      <td>MAPFPEEVDVFTAPHWRMKQLVGLYCDKLSKTNFSNNNDFRALLQS...</td>\n",
       "      <td>0.808917</td>\n",
       "      <td>0.000000</td>\n",
       "      <td>0.191083</td>\n",
       "      <td>XXXCCGGGCSSHHHHHHHHHHHHHHHHHHHHCCTTSHHHHHHHHHH...</td>\n",
       "      <td>XXXCCHHHCCCHHHHHHHHHHHHHHHHHHHHCCCCCHHHHHHHHHH...</td>\n",
       "      <td>alpha</td>\n",
       "      <td>[MA, AP, PF, FP, PE, EE, EV, VD, DV, VF, FT, T...</td>\n",
       "      <td>[-0.32142191160317957, 0.057224821281742375, 0...</td>\n",
       "    </tr>\n",
       "    <tr>\n",
       "      <th>3</th>\n",
       "      <td>3U9L.A</td>\n",
       "      <td>MVMSKKIILITGASSGFGRLTAEALAGAGHRVYASMRDIVGRNASN...</td>\n",
       "      <td>0.524476</td>\n",
       "      <td>0.136364</td>\n",
       "      <td>0.339161</td>\n",
       "      <td>XXXXCCEEEESSCSSHHHHHHHHHHHHTTCEEEEEESCTTTTTHHH...</td>\n",
       "      <td>XXXXCCEEEECCCCCHHHHHHHHHHHHCCCEEEEEECCCCCCCHHH...</td>\n",
       "      <td>alpha+beta</td>\n",
       "      <td>[MV, VM, MS, SK, KK, KI, II, IL, LI, IT, TG, G...</td>\n",
       "      <td>[-0.277416939741929, -0.1891483612554638, 0.27...</td>\n",
       "    </tr>\n",
       "    <tr>\n",
       "      <th>4</th>\n",
       "      <td>3UBK.B</td>\n",
       "      <td>MVMIKLHGASISNYVNKVKLGILEKGLEYEQIRIAPSQEEDFLKIS...</td>\n",
       "      <td>0.548544</td>\n",
       "      <td>0.082524</td>\n",
       "      <td>0.368932</td>\n",
       "      <td>XCCEEEESCTTCHHHHHHHHHHHHHTCCEEEECCCCCCCHHHHTTS...</td>\n",
       "      <td>XCCEEEECCCCCHHHHHHHHHHHHHCCCEEEECCCCCCCHHHHCCC...</td>\n",
       "      <td>alpha+beta</td>\n",
       "      <td>[MV, VM, MI, IK, KL, LH, HG, GA, AS, SI, IS, S...</td>\n",
       "      <td>[-0.2884620371181904, 0.06924909606181796, 0.5...</td>\n",
       "    </tr>\n",
       "  </tbody>\n",
       "</table>\n",
       "</div>"
      ],
      "text/plain": [
       "  structureChainId                                           sequence  \\\n",
       "0           2WWE.A  MHHHHHHSSGVDLGTENLYFQSMSIERATILGFSKKSSNLYLIQVT...   \n",
       "1           5H9N.A  AEVTSIPTGCNALSGKIMSGFDANRFFTGDWYLTHSRDSEVPVRCE...   \n",
       "2           3U9J.A  MAPFPEEVDVFTAPHWRMKQLVGLYCDKLSKTNFSNNNDFRALLQS...   \n",
       "3           3U9L.A  MVMSKKIILITGASSGFGRLTAEALAGAGHRVYASMRDIVGRNASN...   \n",
       "4           3UBK.B  MVMIKLHGASISNYVNKVKLGILEKGLEYEQIRIAPSQEEDFLKIS...   \n",
       "\n",
       "      alpha      beta      coil  \\\n",
       "0  0.414414  0.243243  0.342342   \n",
       "1  0.084416  0.422078  0.493506   \n",
       "2  0.808917  0.000000  0.191083   \n",
       "3  0.524476  0.136364  0.339161   \n",
       "4  0.548544  0.082524  0.368932   \n",
       "\n",
       "                                          dsspQ8Code  \\\n",
       "0  XXXXXXXXXXXXXXXXCCCSCSSSEEEEEEEEEETTEEEEEEEEEE...   \n",
       "1  XXCCSCCTTSCCCTTTSCSSCCHHHHSSSEEEEEEESSCCSSCCCE...   \n",
       "2  XXXCCGGGCSSHHHHHHHHHHHHHHHHHHHHCCTTSHHHHHHHHHH...   \n",
       "3  XXXXCCEEEESSCSSHHHHHHHHHHHHTTCEEEEEESCTTTTTHHH...   \n",
       "4  XCCEEEESCTTCHHHHHHHHHHHHHTCCEEEECCCCCCCHHHHTTS...   \n",
       "\n",
       "                                          dsspQ3Code    foldType  \\\n",
       "0  XXXXXXXXXXXXXXXXCCCCCCCCEEEEEEEEEECCEEEEEEEEEE...  alpha+beta   \n",
       "1  XXCCCCCCCCCCCCCCCCCCCCHHHHCCCEEEEEEECCCCCCCCCE...       other   \n",
       "2  XXXCCHHHCCCHHHHHHHHHHHHHHHHHHHHCCCCCHHHHHHHHHH...       alpha   \n",
       "3  XXXXCCEEEECCCCCHHHHHHHHHHHHCCCEEEEEECCCCCCCHHH...  alpha+beta   \n",
       "4  XCCEEEECCCCCHHHHHHHHHHHHHCCCEEEECCCCCCCHHHHCCC...  alpha+beta   \n",
       "\n",
       "                                               ngram  \\\n",
       "0  [MH, HH, HH, HH, HH, HH, HS, SS, SG, GV, VD, D...   \n",
       "1  [AE, EV, VT, TS, SI, IP, PT, TG, GC, CN, NA, A...   \n",
       "2  [MA, AP, PF, FP, PE, EE, EV, VD, DV, VF, FT, T...   \n",
       "3  [MV, VM, MS, SK, KK, KI, II, IL, LI, IT, TG, G...   \n",
       "4  [MV, VM, MI, IK, KL, LH, HG, GA, AS, SI, IS, S...   \n",
       "\n",
       "                                            features  \n",
       "0  [-0.29939163091873366, -0.10455474958178543, 0...  \n",
       "1  [-0.2998051074423617, -0.06302618445347874, 0....  \n",
       "2  [-0.32142191160317957, 0.057224821281742375, 0...  \n",
       "3  [-0.277416939741929, -0.1891483612554638, 0.27...  \n",
       "4  [-0.2884620371181904, 0.06924909606181796, 0.5...  "
      ]
     },
     "execution_count": 7,
     "metadata": {},
     "output_type": "execute_result"
    }
   ],
   "source": [
    "encoder = ProteinSequenceEncoder(data)\n",
    "data = encoder.overlapping_ngram_word2vec_encode(n=2, windowSize=25, vectorSize=50).cache()\n",
    "\n",
    "data.toPandas().head(5)"
   ]
  },
  {
   "cell_type": "markdown",
   "metadata": {},
   "source": [
    "## Keep only a subset of relevant fields for further processing"
   ]
  },
  {
   "cell_type": "code",
   "execution_count": 8,
   "metadata": {},
   "outputs": [],
   "source": [
    "data = data.select(['structureChainId','alpha','beta','coil','foldType','features'])"
   ]
  },
  {
   "cell_type": "markdown",
   "metadata": {},
   "source": [
    "## Write to parquet file"
   ]
  },
  {
   "cell_type": "code",
   "execution_count": 9,
   "metadata": {},
   "outputs": [],
   "source": [
    "data.write.format('parquet').save('./features')"
   ]
  },
  {
   "cell_type": "markdown",
   "metadata": {},
   "source": [
    "## Terminate Spark"
   ]
  },
  {
   "cell_type": "code",
   "execution_count": 10,
   "metadata": {},
   "outputs": [],
   "source": [
    "sc.stop()"
   ]
  }
 ],
 "metadata": {
  "kernelspec": {
   "display_name": "Python 3",
   "language": "python",
   "name": "python3"
  },
  "language_info": {
   "codemirror_mode": {
    "name": "ipython",
    "version": 3
   },
   "file_extension": ".py",
   "mimetype": "text/x-python",
   "name": "python",
   "nbconvert_exporter": "python",
   "pygments_lexer": "ipython3",
   "version": "3.6.0"
  }
 },
 "nbformat": 4,
 "nbformat_minor": 2
}
