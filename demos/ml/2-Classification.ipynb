{
 "cells": [
  {
   "cell_type": "markdown",
   "metadata": {},
   "source": [
    "# Machine learning - Features extraction\n",
    "\n",
    "Runs binary and multi-class classifiers on a given dataset.\n",
    "Dataset are read as Parquet file. The dataset must contain a feature vector named \"features\" and a classification column.\n",
    "\n",
    "## Imports"
   ]
  },
  {
   "cell_type": "code",
   "execution_count": 1,
   "metadata": {},
   "outputs": [],
   "source": [
    "from mmtfPyspark.ml import SparkMultiClassClassifier, datasetBalancer                                 \n",
    "from pyspark.sql import SparkSession\n",
    "from pyspark.sql.functions import *\n",
    "from pyspark.ml.classification import DecisionTreeClassifier, LogisticRegression, MultilayerPerceptronClassifier, RandomForestClassifier"
   ]
  },
  {
   "cell_type": "markdown",
   "metadata": {},
   "source": [
    "## Configure Spark Session"
   ]
  },
  {
   "cell_type": "code",
   "execution_count": 2,
   "metadata": {},
   "outputs": [],
   "source": [
    "spark = SparkSession.builder \\\n",
    "                    .master(\"local[*]\") \\\n",
    "                    .appName(\"datasetClassifier\") \\\n",
    "                    .getOrCreate()"
   ]
  },
  {
   "cell_type": "markdown",
   "metadata": {},
   "source": [
    "## Read in data from parquet file"
   ]
  },
  {
   "cell_type": "code",
   "execution_count": 3,
   "metadata": {},
   "outputs": [
    {
     "name": "stdout",
     "output_type": "stream",
     "text": [
      "Total number of data: 2174\n"
     ]
    },
    {
     "data": {
      "text/html": [
       "<div>\n",
       "<style scoped>\n",
       "    .dataframe tbody tr th:only-of-type {\n",
       "        vertical-align: middle;\n",
       "    }\n",
       "\n",
       "    .dataframe tbody tr th {\n",
       "        vertical-align: top;\n",
       "    }\n",
       "\n",
       "    .dataframe thead th {\n",
       "        text-align: right;\n",
       "    }\n",
       "</style>\n",
       "<table border=\"1\" class=\"dataframe\">\n",
       "  <thead>\n",
       "    <tr style=\"text-align: right;\">\n",
       "      <th></th>\n",
       "      <th>structureChainId</th>\n",
       "      <th>alpha</th>\n",
       "      <th>beta</th>\n",
       "      <th>coil</th>\n",
       "      <th>foldType</th>\n",
       "      <th>features</th>\n",
       "    </tr>\n",
       "  </thead>\n",
       "  <tbody>\n",
       "    <tr>\n",
       "      <th>0</th>\n",
       "      <td>3CE2.A</td>\n",
       "      <td>0.657143</td>\n",
       "      <td>0.026891</td>\n",
       "      <td>0.315966</td>\n",
       "      <td>alpha</td>\n",
       "      <td>[-0.3523045679806419, -0.008636907063050247, 0...</td>\n",
       "    </tr>\n",
       "    <tr>\n",
       "      <th>1</th>\n",
       "      <td>3CEU.B</td>\n",
       "      <td>0.370558</td>\n",
       "      <td>0.177665</td>\n",
       "      <td>0.451777</td>\n",
       "      <td>alpha+beta</td>\n",
       "      <td>[-0.38101523799786086, -0.008424269855378917, ...</td>\n",
       "    </tr>\n",
       "    <tr>\n",
       "      <th>2</th>\n",
       "      <td>3CH0.A</td>\n",
       "      <td>0.338235</td>\n",
       "      <td>0.194853</td>\n",
       "      <td>0.466912</td>\n",
       "      <td>alpha+beta</td>\n",
       "      <td>[-0.29024044258478765, 0.02571477163308111, 0....</td>\n",
       "    </tr>\n",
       "    <tr>\n",
       "      <th>3</th>\n",
       "      <td>3CHH.A</td>\n",
       "      <td>0.680000</td>\n",
       "      <td>0.006667</td>\n",
       "      <td>0.313333</td>\n",
       "      <td>alpha</td>\n",
       "      <td>[-0.45816402270583745, -0.15243948006641064, 0...</td>\n",
       "    </tr>\n",
       "    <tr>\n",
       "      <th>4</th>\n",
       "      <td>3CI0.I</td>\n",
       "      <td>0.313253</td>\n",
       "      <td>0.409639</td>\n",
       "      <td>0.277108</td>\n",
       "      <td>alpha+beta</td>\n",
       "      <td>[-0.33645407597280363, -0.23910576706244188, 0...</td>\n",
       "    </tr>\n",
       "  </tbody>\n",
       "</table>\n",
       "</div>"
      ],
      "text/plain": [
       "  structureChainId     alpha      beta      coil    foldType  \\\n",
       "0           3CE2.A  0.657143  0.026891  0.315966       alpha   \n",
       "1           3CEU.B  0.370558  0.177665  0.451777  alpha+beta   \n",
       "2           3CH0.A  0.338235  0.194853  0.466912  alpha+beta   \n",
       "3           3CHH.A  0.680000  0.006667  0.313333       alpha   \n",
       "4           3CI0.I  0.313253  0.409639  0.277108  alpha+beta   \n",
       "\n",
       "                                            features  \n",
       "0  [-0.3523045679806419, -0.008636907063050247, 0...  \n",
       "1  [-0.38101523799786086, -0.008424269855378917, ...  \n",
       "2  [-0.29024044258478765, 0.02571477163308111, 0....  \n",
       "3  [-0.45816402270583745, -0.15243948006641064, 0...  \n",
       "4  [-0.33645407597280363, -0.23910576706244188, 0...  "
      ]
     },
     "execution_count": 3,
     "metadata": {},
     "output_type": "execute_result"
    }
   ],
   "source": [
    "parquetFile = './features/'\n",
    "data = spark.read.parquet(parquetFile).cache()\n",
    "\n",
    "print(f\"Total number of data: {data.count()}\")\n",
    "data.toPandas().head()"
   ]
  },
  {
   "cell_type": "markdown",
   "metadata": {},
   "source": [
    "## Select only alpha and beta foldType"
   ]
  },
  {
   "cell_type": "code",
   "execution_count": 4,
   "metadata": {},
   "outputs": [
    {
     "name": "stdout",
     "output_type": "stream",
     "text": [
      "Total number of data: 498\n"
     ]
    },
    {
     "data": {
      "text/html": [
       "<div>\n",
       "<style scoped>\n",
       "    .dataframe tbody tr th:only-of-type {\n",
       "        vertical-align: middle;\n",
       "    }\n",
       "\n",
       "    .dataframe tbody tr th {\n",
       "        vertical-align: top;\n",
       "    }\n",
       "\n",
       "    .dataframe thead th {\n",
       "        text-align: right;\n",
       "    }\n",
       "</style>\n",
       "<table border=\"1\" class=\"dataframe\">\n",
       "  <thead>\n",
       "    <tr style=\"text-align: right;\">\n",
       "      <th></th>\n",
       "      <th>structureChainId</th>\n",
       "      <th>alpha</th>\n",
       "      <th>beta</th>\n",
       "      <th>coil</th>\n",
       "      <th>foldType</th>\n",
       "      <th>features</th>\n",
       "    </tr>\n",
       "  </thead>\n",
       "  <tbody>\n",
       "    <tr>\n",
       "      <th>0</th>\n",
       "      <td>3CE2.A</td>\n",
       "      <td>0.657143</td>\n",
       "      <td>0.026891</td>\n",
       "      <td>0.315966</td>\n",
       "      <td>alpha</td>\n",
       "      <td>[-0.3523045679806419, -0.008636907063050247, 0...</td>\n",
       "    </tr>\n",
       "    <tr>\n",
       "      <th>1</th>\n",
       "      <td>3CHH.A</td>\n",
       "      <td>0.680000</td>\n",
       "      <td>0.006667</td>\n",
       "      <td>0.313333</td>\n",
       "      <td>alpha</td>\n",
       "      <td>[-0.45816402270583745, -0.15243948006641064, 0...</td>\n",
       "    </tr>\n",
       "    <tr>\n",
       "      <th>2</th>\n",
       "      <td>3FH3.A</td>\n",
       "      <td>0.780822</td>\n",
       "      <td>0.013699</td>\n",
       "      <td>0.205479</td>\n",
       "      <td>alpha</td>\n",
       "      <td>[-0.15787777530954808, -0.004312350444353311, ...</td>\n",
       "    </tr>\n",
       "    <tr>\n",
       "      <th>3</th>\n",
       "      <td>3FHG.A</td>\n",
       "      <td>0.705314</td>\n",
       "      <td>0.000000</td>\n",
       "      <td>0.294686</td>\n",
       "      <td>alpha</td>\n",
       "      <td>[-0.31876067750300596, 0.02605013251621095, 0....</td>\n",
       "    </tr>\n",
       "    <tr>\n",
       "      <th>4</th>\n",
       "      <td>3FYR.B</td>\n",
       "      <td>0.729730</td>\n",
       "      <td>0.000000</td>\n",
       "      <td>0.270270</td>\n",
       "      <td>alpha</td>\n",
       "      <td>[-0.005325594758416744, 0.052406518898428754, ...</td>\n",
       "    </tr>\n",
       "  </tbody>\n",
       "</table>\n",
       "</div>"
      ],
      "text/plain": [
       "  structureChainId     alpha      beta      coil foldType  \\\n",
       "0           3CE2.A  0.657143  0.026891  0.315966    alpha   \n",
       "1           3CHH.A  0.680000  0.006667  0.313333    alpha   \n",
       "2           3FH3.A  0.780822  0.013699  0.205479    alpha   \n",
       "3           3FHG.A  0.705314  0.000000  0.294686    alpha   \n",
       "4           3FYR.B  0.729730  0.000000  0.270270    alpha   \n",
       "\n",
       "                                            features  \n",
       "0  [-0.3523045679806419, -0.008636907063050247, 0...  \n",
       "1  [-0.45816402270583745, -0.15243948006641064, 0...  \n",
       "2  [-0.15787777530954808, -0.004312350444353311, ...  \n",
       "3  [-0.31876067750300596, 0.02605013251621095, 0....  \n",
       "4  [-0.005325594758416744, 0.052406518898428754, ...  "
      ]
     },
     "execution_count": 4,
     "metadata": {},
     "output_type": "execute_result"
    }
   ],
   "source": [
    "data = data.where((data.foldType == 'alpha') | (data.foldType == 'beta')) #| (data.foldType == 'other'))\n",
    "\n",
    "print(f\"Total number of data: {data.count()}\")\n",
    "data.toPandas().head()"
   ]
  },
  {
   "cell_type": "markdown",
   "metadata": {},
   "source": [
    "## Basic dataset information and setting"
   ]
  },
  {
   "cell_type": "code",
   "execution_count": 5,
   "metadata": {},
   "outputs": [
    {
     "name": "stdout",
     "output_type": "stream",
     "text": [
      "Feature count    : 50\n",
      "Class count    : 2\n",
      "Dataset size (unbalanced)    : 498\n",
      "+--------+-----+\n",
      "|foldType|count|\n",
      "+--------+-----+\n",
      "|    beta|  119|\n",
      "|   alpha|  379|\n",
      "+--------+-----+\n",
      "\n",
      "Dataset size (balanced)  : 244\n",
      "+--------+-----+\n",
      "|foldType|count|\n",
      "+--------+-----+\n",
      "|    beta|  119|\n",
      "|   alpha|  125|\n",
      "+--------+-----+\n",
      "\n"
     ]
    }
   ],
   "source": [
    "label = 'foldType'\n",
    "testFraction = 0.3\n",
    "seed = 123\n",
    "\n",
    "vector = data.first()[\"features\"]\n",
    "featureCount = len(vector)\n",
    "print(f\"Feature count    : {featureCount}\")\n",
    "    \n",
    "classCount = int(data.select(label).distinct().count())\n",
    "print(f\"Class count    : {classCount}\")\n",
    "\n",
    "print(f\"Dataset size (unbalanced)    : {data.count()}\")\n",
    "    \n",
    "data.groupby(label).count().show(classCount)\n",
    "data = datasetBalancer.downsample(data, label, 1)\n",
    "print(f\"Dataset size (balanced)  : {data.count()}\")\n",
    "    \n",
    "data.groupby(label).count().show(classCount)"
   ]
  },
  {
   "cell_type": "markdown",
   "metadata": {},
   "source": [
    "## Decision Tree Classifier"
   ]
  },
  {
   "cell_type": "code",
   "execution_count": 6,
   "metadata": {},
   "outputs": [
    {
     "name": "stdout",
     "output_type": "stream",
     "text": [
      "\n",
      " Class\tTrain\tTest\n",
      "alpha\t92\t33\n",
      "beta\t79\t40\n",
      "\n",
      "Sample predictions: DecisionTreeClassifier\n",
      "+----------------+-----------+-----------+----------+--------+--------------------+------------+-------------+-----------+----------+--------------+\n",
      "|structureChainId|      alpha|       beta|      coil|foldType|            features|indexedLabel|rawPrediction|probability|prediction|predictedLabel|\n",
      "+----------------+-----------+-----------+----------+--------+--------------------+------------+-------------+-----------+----------+--------------+\n",
      "|          5MUN.A|0.032967035|  0.5769231| 0.3901099|    beta|[-0.2010753329213...|         1.0|   [0.0,48.0]|  [0.0,1.0]|       1.0|          beta|\n",
      "|          4L1D.C|0.027522936|  0.4587156|0.51376146|    beta|[-0.5289961680112...|         1.0|   [0.0,17.0]|  [0.0,1.0]|       1.0|          beta|\n",
      "|          2GFN.B| 0.78238344|        0.0|0.21761657|   alpha|[-0.3541173004128...|         0.0|   [53.0,0.0]|  [1.0,0.0]|       0.0|         alpha|\n",
      "|          3BS7.B|  0.7866667|        0.0|0.21333334|   alpha|[-0.5531218039815...|         0.0|   [53.0,0.0]|  [1.0,0.0]|       0.0|         alpha|\n",
      "|          4M5E.A|  0.6296296|0.014814815|0.35555556|   alpha|[-0.3458326539243...|         0.0|   [0.0,48.0]|  [0.0,1.0]|       1.0|          beta|\n",
      "+----------------+-----------+-----------+----------+--------+--------------------+------------+-------------+-----------+----------+--------------+\n",
      "\n",
      "Total time taken: 4.619009017944336\n",
      "Method\tDecisionTreeClassifier\n",
      "F\t0.7525789341797527\n",
      "Accuracy\t0.7534246575342466\n",
      "Precision\t0.7528775540264714\n",
      "Recall\t0.7534246575342465\n",
      "False Positive Rase\t0.2564549605645496\n",
      "True Positive Rate\t0.7534246575342465\n",
      "\t\n",
      "Confusion Matrix\n",
      "['alpha', 'beta']\n",
      "DenseMatrix([[23., 10.],\n",
      "             [ 8., 32.]])\n"
     ]
    }
   ],
   "source": [
    "dtc = DecisionTreeClassifier()\n",
    "mcc = SparkMultiClassClassifier(dtc, label, testFraction, seed)\n",
    "matrics = mcc.fit(data)\n",
    "for k,v in matrics.items(): print(f\"{k}\\t{v}\")"
   ]
  },
  {
   "cell_type": "markdown",
   "metadata": {},
   "source": [
    "## Random Forest Classifier"
   ]
  },
  {
   "cell_type": "code",
   "execution_count": 7,
   "metadata": {},
   "outputs": [
    {
     "name": "stdout",
     "output_type": "stream",
     "text": [
      "\n",
      " Class\tTrain\tTest\n",
      "alpha\t92\t33\n",
      "beta\t79\t40\n",
      "\n",
      "Sample predictions: RandomForestClassifier\n",
      "+----------------+-----------+-----------+----------+--------+--------------------+------------+--------------------+--------------------+----------+--------------+\n",
      "|structureChainId|      alpha|       beta|      coil|foldType|            features|indexedLabel|       rawPrediction|         probability|prediction|predictedLabel|\n",
      "+----------------+-----------+-----------+----------+--------+--------------------+------------+--------------------+--------------------+----------+--------------+\n",
      "|          5MUN.A|0.032967035|  0.5769231| 0.3901099|    beta|[-0.2010753329213...|         1.0|[6.41263736263736...|[0.32063186813186...|       1.0|          beta|\n",
      "|          4L1D.C|0.027522936|  0.4587156|0.51376146|    beta|[-0.5289961680112...|         1.0|[8.95020212704894...|[0.44751010635244...|       1.0|          beta|\n",
      "|          2GFN.B| 0.78238344|        0.0|0.21761657|   alpha|[-0.3541173004128...|         0.0|[18.4166666666666...|[0.92083333333333...|       0.0|         alpha|\n",
      "|          3BS7.B|  0.7866667|        0.0|0.21333334|   alpha|[-0.5531218039815...|         0.0|[14.0185185185185...|[0.70092592592592...|       0.0|         alpha|\n",
      "|          4M5E.A|  0.6296296|0.014814815|0.35555556|   alpha|[-0.3458326539243...|         0.0|[9.15079365079365...|[0.45753968253968...|       1.0|          beta|\n",
      "+----------------+-----------+-----------+----------+--------+--------------------+------------+--------------------+--------------------+----------+--------------+\n",
      "\n",
      "Total time taken: 3.357052803039551\n",
      "Method\tRandomForestClassifier\n",
      "F\t0.8037102245888265\n",
      "Accuracy\t0.8082191780821918\n",
      "Precision\t0.8201826484018265\n",
      "Recall\t0.8082191780821918\n",
      "False Positive Rase\t0.21655251141552512\n",
      "True Positive Rate\t0.8082191780821918\n",
      "\t\n",
      "Confusion Matrix\n",
      "['alpha', 'beta']\n",
      "DenseMatrix([[22., 11.],\n",
      "             [ 3., 37.]])\n"
     ]
    }
   ],
   "source": [
    "rfc = RandomForestClassifier()\n",
    "mcc = SparkMultiClassClassifier(rfc, label, testFraction, seed)\n",
    "matrics = mcc.fit(data)\n",
    "for k,v in matrics.items(): print(f\"{k}\\t{v}\")"
   ]
  },
  {
   "cell_type": "markdown",
   "metadata": {},
   "source": [
    "## Logistic Regression Classifier"
   ]
  },
  {
   "cell_type": "code",
   "execution_count": 8,
   "metadata": {},
   "outputs": [
    {
     "name": "stdout",
     "output_type": "stream",
     "text": [
      "\n",
      " Class\tTrain\tTest\n",
      "alpha\t92\t33\n",
      "beta\t79\t40\n",
      "\n",
      "Sample predictions: LogisticRegression\n",
      "+----------------+-----------+-----------+----------+--------+--------------------+------------+--------------------+--------------------+----------+--------------+\n",
      "|structureChainId|      alpha|       beta|      coil|foldType|            features|indexedLabel|       rawPrediction|         probability|prediction|predictedLabel|\n",
      "+----------------+-----------+-----------+----------+--------+--------------------+------------+--------------------+--------------------+----------+--------------+\n",
      "|          5MUN.A|0.032967035|  0.5769231| 0.3901099|    beta|[-0.2010753329213...|         1.0|[83.9875027392862...|[1.0,3.3472720527...|       0.0|         alpha|\n",
      "|          4L1D.C|0.027522936|  0.4587156|0.51376146|    beta|[-0.5289961680112...|         1.0|[-332.03466178834...|[6.29765093113241...|       1.0|          beta|\n",
      "|          2GFN.B| 0.78238344|        0.0|0.21761657|   alpha|[-0.3541173004128...|         0.0|[682.830057012782...|[1.0,2.8227613457...|       0.0|         alpha|\n",
      "|          3BS7.B|  0.7866667|        0.0|0.21333334|   alpha|[-0.5531218039815...|         0.0|[424.111356141427...|[1.0,6.4681236742...|       0.0|         alpha|\n",
      "|          4M5E.A|  0.6296296|0.014814815|0.35555556|   alpha|[-0.3458326539243...|         0.0|[242.905884650710...|[1.0,3.2159898867...|       0.0|         alpha|\n",
      "+----------------+-----------+-----------+----------+--------+--------------------+------------+--------------------+--------------------+----------+--------------+\n",
      "\n",
      "Total time taken: 4.882399320602417\n",
      "Method\tLogisticRegression\n",
      "F\t0.7808219178082192\n",
      "Accuracy\t0.7808219178082192\n",
      "Precision\t0.7808219178082192\n",
      "Recall\t0.7808219178082192\n",
      "False Positive Rase\t0.22324616023246163\n",
      "True Positive Rate\t0.7808219178082192\n",
      "\t\n",
      "Confusion Matrix\n",
      "['alpha', 'beta']\n",
      "DenseMatrix([[25.,  8.],\n",
      "             [ 8., 32.]])\n"
     ]
    }
   ],
   "source": [
    "lr = LogisticRegression()\n",
    "mcc = SparkMultiClassClassifier(lr, label, testFraction, seed)\n",
    "matrics = mcc.fit(data)\n",
    "for k,v in matrics.items(): print(f\"{k}\\t{v}\")"
   ]
  },
  {
   "cell_type": "markdown",
   "metadata": {},
   "source": [
    "## Simple Multilayer Perception Classifier"
   ]
  },
  {
   "cell_type": "code",
   "execution_count": 9,
   "metadata": {},
   "outputs": [
    {
     "name": "stdout",
     "output_type": "stream",
     "text": [
      "\n",
      " Class\tTrain\tTest\n",
      "alpha\t92\t33\n",
      "beta\t79\t40\n",
      "\n",
      "Sample predictions: MultilayerPerceptronClassifier\n",
      "+----------------+-----------+-----------+----------+--------+--------------------+------------+----------+--------------+\n",
      "|structureChainId|      alpha|       beta|      coil|foldType|            features|indexedLabel|prediction|predictedLabel|\n",
      "+----------------+-----------+-----------+----------+--------+--------------------+------------+----------+--------------+\n",
      "|          5MUN.A|0.032967035|  0.5769231| 0.3901099|    beta|[-0.2010753329213...|         1.0|       1.0|          beta|\n",
      "|          4L1D.C|0.027522936|  0.4587156|0.51376146|    beta|[-0.5289961680112...|         1.0|       1.0|          beta|\n",
      "|          2GFN.B| 0.78238344|        0.0|0.21761657|   alpha|[-0.3541173004128...|         0.0|       0.0|         alpha|\n",
      "|          3BS7.B|  0.7866667|        0.0|0.21333334|   alpha|[-0.5531218039815...|         0.0|       0.0|         alpha|\n",
      "|          4M5E.A|  0.6296296|0.014814815|0.35555556|   alpha|[-0.3458326539243...|         0.0|       0.0|         alpha|\n",
      "+----------------+-----------+-----------+----------+--------+--------------------+------------+----------+--------------+\n",
      "\n",
      "Total time taken: 4.605485439300537\n",
      "Method\tMultilayerPerceptronClassifier\n",
      "F\t0.8625438523220847\n",
      "Accuracy\t0.863013698630137\n",
      "Precision\t0.8633924625970583\n",
      "Recall\t0.8630136986301369\n",
      "False Positive Rase\t0.14483188044831882\n",
      "True Positive Rate\t0.8630136986301369\n",
      "\t\n",
      "Confusion Matrix\n",
      "['alpha', 'beta']\n",
      "DenseMatrix([[27.,  6.],\n",
      "             [ 4., 36.]])\n"
     ]
    }
   ],
   "source": [
    "layers = [featureCount, 10, classCount]\n",
    "mpc = MultilayerPerceptronClassifier().setLayers(layers) \\\n",
    "                                          .setBlockSize(128) \\\n",
    "                                          .setSeed(1234) \\\n",
    "                                          .setMaxIter(200)\n",
    "mcc = SparkMultiClassClassifier(mpc, label, testFraction, seed)\n",
    "matrics = mcc.fit(data)\n",
    "for k,v in matrics.items(): print(f\"{k}\\t{v}\")"
   ]
  },
  {
   "cell_type": "markdown",
   "metadata": {},
   "source": [
    "## Terminate Spark"
   ]
  },
  {
   "cell_type": "code",
   "execution_count": 10,
   "metadata": {},
   "outputs": [],
   "source": [
    "spark.stop()"
   ]
  }
 ],
 "metadata": {
  "kernelspec": {
   "display_name": "Python 3",
   "language": "python",
   "name": "python3"
  },
  "language_info": {
   "codemirror_mode": {
    "name": "ipython",
    "version": 3
   },
   "file_extension": ".py",
   "mimetype": "text/x-python",
   "name": "python",
   "nbconvert_exporter": "python",
   "pygments_lexer": "ipython3",
   "version": "3.6.0"
  }
 },
 "nbformat": 4,
 "nbformat_minor": 2
}
