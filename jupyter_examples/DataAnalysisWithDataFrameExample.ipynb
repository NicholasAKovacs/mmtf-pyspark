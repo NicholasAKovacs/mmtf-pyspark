{
 "cells": [
  {
   "cell_type": "markdown",
   "metadata": {},
   "source": [
    "# Example of using PySpark to do data analysis with dataframe"
   ]
  },
  {
   "cell_type": "markdown",
   "metadata": {},
   "source": [
    "## Imports and variables"
   ]
  },
  {
   "cell_type": "code",
   "execution_count": 2,
   "metadata": {
    "collapsed": false,
    "scrolled": true
   },
   "outputs": [],
   "source": [
    "from pyspark import SparkConf, SparkContext                    \n",
    "from src.main import MmtfReader                                \n",
    "from src.main.rcsbfilters import pisces                        \n",
    "from src.main.datasets import groupInteractionExtractor\n",
    "import py3Dmol\n",
    "                                                               \n",
    "# Create variables                                             \n",
    "APP_NAME = \"MMTF_Spark\"                                        \n",
    "path = \"/home/marshuang80/PDB/full\"                            \n",
    "                                                               \n",
    "# Configure Spark                                              \n",
    "conf = SparkConf().setAppName(APP_NAME).setMaster(\"local[*]\")  \n",
    "sc = SparkContext(conf=conf)                                   "
   ]
  },
  {
   "cell_type": "markdown",
   "metadata": {},
   "source": [
    "## Extract and list top interacting groups for Zinc in PDB   "
   ]
  },
  {
   "cell_type": "code",
   "execution_count": 3,
   "metadata": {
    "collapsed": true
   },
   "outputs": [],
   "source": [
    "# Read all PDB Entries\n",
    "pdb = MmtfReader.readSequenceFile(path, sc)\n",
    "\n",
    "# Save a non-redundant subset using Pisces filter (R. Dunbrack)\n",
    "sequenceIdentity = 20                                          \n",
    "resolution = 2.0                                               \n",
    "pdb = pdb.filter(pisces(sequenceIdentity, resolution))         \n",
    "\n",
    "# Extract interacting groups\n",
    "cutoffDistance = 3.0                                           \n",
    "finder = groupInteractionExtractor(\"ZN\", cutoffDistance)       \n",
    "interactions = finder.getDataset(pdb)"
   ]
  },
  {
   "cell_type": "markdown",
   "metadata": {},
   "source": [
    "## Structure Visualization"
   ]
  },
  {
   "cell_type": "code",
   "execution_count": 32,
   "metadata": {
    "collapsed": false
   },
   "outputs": [
    {
     "data": {
      "text/html": [
       "<div id=\"3dmolviewer_15041154328832695\"  style=\"position: relative; width: 200px; height: 200px\">\n",
       "<script>\n",
       "if(typeof $3Dmolpromise === 'undefined') $3Dmolpromise = $.when($.getScript('https://3dmol.csb.pitt.edu/build/3Dmol.js'))\n",
       "var viewer_15041154328832695 = null;\n",
       "$3Dmolpromise.done(function() {\n",
       "viewer_15041154328832695 = $3Dmol.createViewer($(\"#3dmolviewer_15041154328832695\"),{backgroundColor:\"white\"});\n",
       "$3Dmol.download(\"pdb:3t7l\", viewer_15041154328832695, {}, function() {\n",
       "\tviewer_15041154328832695.setStyle({\"cartoon\": {\"color\": \"spectrum\", \"opacity\": 0.7}});\n",
       "\tviewer_15041154328832695.setStyle({\"atom\": \"ZN\"},{\"cartoon\": {\"color\": \"spectrum\"}});\n",
       "\tviewer_15041154328832695.addSurface(1,{\"opacity\": 0.9, \"color\": \"white\"},{\"atom\": \"ZN\"});\n",
       "viewer_15041154328832695.render();\n",
       "})\n",
       "});\n",
       "</script>"
      ],
      "text/plain": [
       "<IPython.core.display.HTML object>"
      ]
     },
     "execution_count": 32,
     "metadata": {},
     "output_type": "execute_result"
    }
   ],
   "source": [
    "# Get first protein\n",
    "exampleProtein = interactions.first()\n",
    "\n",
    "# Display protein structure with zinc\n",
    "view = py3Dmol.view(query='pdb:%s'%proteinId, \n",
    "                    width = 200, \n",
    "                    height = 200)\n",
    "chA = {'atom':'ZN'}\n",
    "view.setStyle({'cartoon': {'color':'spectrum', 'opacity':0.7}})\n",
    "view.setStyle(chA,{'cartoon': {'color':'spectrum'}})\n",
    "view.addSurface(py3Dmol.VDW,{'opacity':0.9,'color':'white'},chA)\n",
    "view.show()"
   ]
  },
  {
   "cell_type": "markdown",
   "metadata": {},
   "source": [
    "## Show the top 10 interacting groups                           \n"
   ]
  },
  {
   "cell_type": "code",
   "execution_count": 34,
   "metadata": {
    "collapsed": false
   },
   "outputs": [
    {
     "name": "stdout",
     "output_type": "stream",
     "text": [
      "+--------+-----+\n",
      "|residue2|count|\n",
      "+--------+-----+\n",
      "|     CYS| 1394|\n",
      "|     HIS| 1265|\n",
      "|     HOH| 1049|\n",
      "|     GLU|  737|\n",
      "|     ASP|  722|\n",
      "|     ACT|   75|\n",
      "|      ZN|   48|\n",
      "|      CL|   45|\n",
      "|     CAC|   43|\n",
      "|     PO4|   40|\n",
      "+--------+-----+\n",
      "only showing top 10 rows\n",
      "\n"
     ]
    }
   ],
   "source": [
    "interactions.filter(\"element2 != 'C'\").groupBy(\"residue2\").count().sort(\"count\", ascending=False).show(10)\n",
    "sc.stop()"
   ]
  },
  {
   "cell_type": "code",
   "execution_count": null,
   "metadata": {
    "collapsed": true
   },
   "outputs": [],
   "source": []
  }
 ],
 "metadata": {
  "kernelspec": {
   "display_name": "Python 3",
   "language": "python",
   "name": "python3"
  },
  "language_info": {
   "codemirror_mode": {
    "name": "ipython",
    "version": 3
   },
   "file_extension": ".py",
   "mimetype": "text/x-python",
   "name": "python",
   "nbconvert_exporter": "python",
   "pygments_lexer": "ipython3",
   "version": "3.6.0"
  }
 },
 "nbformat": 4,
 "nbformat_minor": 2
}
