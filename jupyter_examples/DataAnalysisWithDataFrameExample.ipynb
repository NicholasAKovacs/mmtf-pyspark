{
 "cells": [
  {
   "cell_type": "markdown",
   "metadata": {},
   "source": [
    "# Example of using PySpark to do data analysis with dataframe"
   ]
  },
  {
   "cell_type": "markdown",
   "metadata": {},
   "source": [
    "## Imports and variables"
   ]
  },
  {
   "cell_type": "code",
   "execution_count": 3,
   "metadata": {
    "collapsed": false,
    "scrolled": true
   },
   "outputs": [],
   "source": [
    "from pyspark import SparkConf, SparkContext                    \n",
    "from src.main import MmtfReader                                \n",
    "from src.main.rcsbfilters import pisces                        \n",
    "from src.main.datasets import groupInteractionExtractor\n",
    "import py3Dmol\n",
    "                                                               \n",
    "# Create variables                                             \n",
    "APP_NAME = \"MMTF_Spark\"                                        \n",
    "path = \"/home/marshuang80/PDB/full\"                            \n",
    "                                                               \n",
    "# Configure Spark                                              \n",
    "conf = SparkConf().setAppName(APP_NAME).setMaster(\"local[*]\")  \n",
    "sc = SparkContext(conf=conf)                                   "
   ]
  },
  {
   "cell_type": "markdown",
   "metadata": {},
   "source": [
    "## Read PDB and create PISCES non-redundant set"
   ]
  },
  {
   "cell_type": "code",
   "execution_count": 4,
   "metadata": {
    "collapsed": false
   },
   "outputs": [],
   "source": [
    "pdb = MmtfReader.readSequenceFile(path, sc)\n",
    "pdb = pdb.filter(pisces(sequenceIdentity = 20, resolution = 2.0))         "
   ]
  },
  {
   "cell_type": "markdown",
   "metadata": {},
   "source": [
    "## Extract Zinc interactions"
   ]
  },
  {
   "cell_type": "code",
   "execution_count": 5,
   "metadata": {
    "collapsed": false
   },
   "outputs": [],
   "source": [
    "finder = groupInteractionExtractor(\"ZN\", distance = 3.0)       \n",
    "interactions = finder.getDataset(pdb)"
   ]
  },
  {
   "cell_type": "markdown",
   "metadata": {},
   "source": [
    "## Visualize first hit"
   ]
  },
  {
   "cell_type": "code",
   "execution_count": 16,
   "metadata": {
    "collapsed": false
   },
   "outputs": [
    {
     "data": {
      "text/html": [
       "<div id=\"3dmolviewer_15041324545044737\"  style=\"position: relative; width: 500px; height: 150px\">\n",
       "<script>\n",
       "if(typeof $3Dmolpromise === 'undefined') $3Dmolpromise = $.when($.getScript('https://3dmol.csb.pitt.edu/build/3Dmol.js'))\n",
       "var viewer_15041324545044737 = null;\n",
       "$3Dmolpromise.done(function() {\n",
       "viewer_15041324545044737 = $3Dmol.createViewer($(\"#3dmolviewer_15041324545044737\"),{backgroundColor:\"white\"});\n",
       "$3Dmol.download(\"pdb:3T7L\", viewer_15041324545044737, {}, function() {\n",
       "\tviewer_15041324545044737.setStyle({\"cartoon\": {\"color\": \"spectrum\"}});\n",
       "\tviewer_15041324545044737.setStyle({\"atom\": \"ZN\"},{\"sphere\": {\"color\": \"gray\"}});\n",
       "viewer_15041324545044737.render();\n",
       "})\n",
       "});\n",
       "</script>"
      ],
      "text/plain": [
       "<IPython.core.display.HTML object>"
      ]
     },
     "execution_count": 16,
     "metadata": {},
     "output_type": "execute_result"
    }
   ],
   "source": [
    "hit = interactions.first()[0]\n",
    "view = py3Dmol.view(query='pdb:%s'%hit)\n",
    "view.setStyle({'cartoon': {'color':'spectrum'}})\n",
    "view.setStyle({'atom':'ZN'},{'sphere': {'color':'gray'}})\n",
    "view.show()"
   ]
  },
  {
   "cell_type": "markdown",
   "metadata": {},
   "source": [
    "## Show top 5 interacting groups                           \n"
   ]
  },
  {
   "cell_type": "code",
   "execution_count": 18,
   "metadata": {
    "collapsed": false
   },
   "outputs": [
    {
     "name": "stdout",
     "output_type": "stream",
     "text": [
      "+--------+-----+\n",
      "|residue2|count|\n",
      "+--------+-----+\n",
      "|     CYS| 1394|\n",
      "|     HIS| 1265|\n",
      "|     HOH| 1049|\n",
      "|     GLU|  737|\n",
      "|     ASP|  722|\n",
      "+--------+-----+\n",
      "only showing top 5 rows\n",
      "\n"
     ]
    }
   ],
   "source": [
    "interactions.filter(\"element2 != 'C'\").groupBy(\"residue2\").count().sort(\"count\", ascending=False).show(5)"
   ]
  }
 ],
 "metadata": {
  "kernelspec": {
   "display_name": "Python 3",
   "language": "python",
   "name": "python3"
  },
  "language_info": {
   "codemirror_mode": {
    "name": "ipython",
    "version": 3
   },
   "file_extension": ".py",
   "mimetype": "text/x-python",
   "name": "python",
   "nbconvert_exporter": "python",
   "pygments_lexer": "ipython3",
   "version": "3.6.0"
  }
 },
 "nbformat": 4,
 "nbformat_minor": 2
}
